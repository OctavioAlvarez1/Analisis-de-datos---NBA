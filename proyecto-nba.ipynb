{
 "cells": [
  {
   "cell_type": "code",
   "execution_count": 1,
   "id": "a9a9bc7c",
   "metadata": {
    "_cell_guid": "b1076dfc-b9ad-4769-8c92-a6c4dae69d19",
    "_uuid": "8f2839f25d086af736a60e9eeb907d3b93b6e0e5",
    "execution": {
     "iopub.execute_input": "2024-03-02T21:42:11.303645Z",
     "iopub.status.busy": "2024-03-02T21:42:11.303217Z",
     "iopub.status.idle": "2024-03-02T21:42:12.198493Z",
     "shell.execute_reply": "2024-03-02T21:42:12.197559Z"
    },
    "papermill": {
     "duration": 0.902252,
     "end_time": "2024-03-02T21:42:12.200619",
     "exception": false,
     "start_time": "2024-03-02T21:42:11.298367",
     "status": "completed"
    },
    "tags": []
   },
   "outputs": [
    {
     "name": "stdout",
     "output_type": "stream",
     "text": [
      "/kaggle/input/nba-games/players.csv\n",
      "/kaggle/input/nba-games/teams.csv\n",
      "/kaggle/input/nba-games/ranking.csv\n",
      "/kaggle/input/nba-games/games_details.csv\n",
      "/kaggle/input/nba-games/games.csv\n"
     ]
    }
   ],
   "source": [
    "# This Python 3 environment comes with many helpful analytics libraries installed\n",
    "# It is defined by the kaggle/python Docker image: https://github.com/kaggle/docker-python\n",
    "# For example, here's several helpful packages to load\n",
    "\n",
    "import numpy as np # linear algebra\n",
    "import pandas as pd # data processing, CSV file I/O (e.g. pd.read_csv)\n",
    "\n",
    "# Input data files are available in the read-only \"../input/\" directory\n",
    "# For example, running this (by clicking run or pressing Shift+Enter) will list all files under the input directory\n",
    "\n",
    "import os\n",
    "for dirname, _, filenames in os.walk('/kaggle/input'):\n",
    "    for filename in filenames:\n",
    "        print(os.path.join(dirname, filename))\n",
    "\n",
    "# You can write up to 20GB to the current directory (/kaggle/working/) that gets preserved as output when you create a version using \"Save & Run All\" \n",
    "# You can also write temporary files to /kaggle/temp/, but they won't be saved outside of the current session"
   ]
  },
  {
   "cell_type": "markdown",
   "id": "9c4a7e8f",
   "metadata": {
    "papermill": {
     "duration": 0.002176,
     "end_time": "2024-03-02T21:42:12.205893",
     "exception": false,
     "start_time": "2024-03-02T21:42:12.203717",
     "status": "completed"
    },
    "tags": []
   },
   "source": [
    "# **Objetivo**:\n",
    "\n",
    "<font size=\"4\">- Conocer si se ganaron más partidos de local o de visitante.</font>\n",
    "\n",
    "<font size=\"4\">- Qué equipos hicieron la mayor cantidad de puntos, de local y visitante.</font>\n",
    "\n",
    "<font size=\"4\">- Cuántos partidos ganaron los distintos equipos de local y visitante.</font>\n",
    "\n",
    "<font size=\"4\">- Cómo se han comportado los puntos anotados a lo largo de los años.</font>\n",
    "\n",
    "<font size=\"4\">- Contra qué equipos se ha ganado más de local y visitante.</font>"
   ]
  },
  {
   "cell_type": "code",
   "execution_count": 2,
   "id": "0028f48e",
   "metadata": {
    "execution": {
     "iopub.execute_input": "2024-03-02T21:42:12.212222Z",
     "iopub.status.busy": "2024-03-02T21:42:12.211728Z",
     "iopub.status.idle": "2024-03-02T21:42:12.359410Z",
     "shell.execute_reply": "2024-03-02T21:42:12.358007Z"
    },
    "papermill": {
     "duration": 0.15329,
     "end_time": "2024-03-02T21:42:12.361540",
     "exception": false,
     "start_time": "2024-03-02T21:42:12.208250",
     "status": "completed"
    },
    "tags": []
   },
   "outputs": [
    {
     "data": {
      "text/html": [
       "<div>\n",
       "<style scoped>\n",
       "    .dataframe tbody tr th:only-of-type {\n",
       "        vertical-align: middle;\n",
       "    }\n",
       "\n",
       "    .dataframe tbody tr th {\n",
       "        vertical-align: top;\n",
       "    }\n",
       "\n",
       "    .dataframe thead th {\n",
       "        text-align: right;\n",
       "    }\n",
       "</style>\n",
       "<table border=\"1\" class=\"dataframe\">\n",
       "  <thead>\n",
       "    <tr style=\"text-align: right;\">\n",
       "      <th></th>\n",
       "      <th>GAME_DATE_EST</th>\n",
       "      <th>GAME_ID</th>\n",
       "      <th>GAME_STATUS_TEXT</th>\n",
       "      <th>HOME_TEAM_ID</th>\n",
       "      <th>VISITOR_TEAM_ID</th>\n",
       "      <th>SEASON</th>\n",
       "      <th>TEAM_ID_home</th>\n",
       "      <th>PTS_home</th>\n",
       "      <th>FG_PCT_home</th>\n",
       "      <th>FT_PCT_home</th>\n",
       "      <th>...</th>\n",
       "      <th>AST_home</th>\n",
       "      <th>REB_home</th>\n",
       "      <th>TEAM_ID_away</th>\n",
       "      <th>PTS_away</th>\n",
       "      <th>FG_PCT_away</th>\n",
       "      <th>FT_PCT_away</th>\n",
       "      <th>FG3_PCT_away</th>\n",
       "      <th>AST_away</th>\n",
       "      <th>REB_away</th>\n",
       "      <th>HOME_TEAM_WINS</th>\n",
       "    </tr>\n",
       "  </thead>\n",
       "  <tbody>\n",
       "    <tr>\n",
       "      <th>0</th>\n",
       "      <td>2022-12-22</td>\n",
       "      <td>22200477</td>\n",
       "      <td>Final</td>\n",
       "      <td>1610612740</td>\n",
       "      <td>1610612759</td>\n",
       "      <td>2022</td>\n",
       "      <td>1610612740</td>\n",
       "      <td>126.0</td>\n",
       "      <td>0.484</td>\n",
       "      <td>0.926</td>\n",
       "      <td>...</td>\n",
       "      <td>25.0</td>\n",
       "      <td>46.0</td>\n",
       "      <td>1610612759</td>\n",
       "      <td>117.0</td>\n",
       "      <td>0.478</td>\n",
       "      <td>0.815</td>\n",
       "      <td>0.321</td>\n",
       "      <td>23.0</td>\n",
       "      <td>44.0</td>\n",
       "      <td>1</td>\n",
       "    </tr>\n",
       "    <tr>\n",
       "      <th>1</th>\n",
       "      <td>2022-12-22</td>\n",
       "      <td>22200478</td>\n",
       "      <td>Final</td>\n",
       "      <td>1610612762</td>\n",
       "      <td>1610612764</td>\n",
       "      <td>2022</td>\n",
       "      <td>1610612762</td>\n",
       "      <td>120.0</td>\n",
       "      <td>0.488</td>\n",
       "      <td>0.952</td>\n",
       "      <td>...</td>\n",
       "      <td>16.0</td>\n",
       "      <td>40.0</td>\n",
       "      <td>1610612764</td>\n",
       "      <td>112.0</td>\n",
       "      <td>0.561</td>\n",
       "      <td>0.765</td>\n",
       "      <td>0.333</td>\n",
       "      <td>20.0</td>\n",
       "      <td>37.0</td>\n",
       "      <td>1</td>\n",
       "    </tr>\n",
       "    <tr>\n",
       "      <th>2</th>\n",
       "      <td>2022-12-21</td>\n",
       "      <td>22200466</td>\n",
       "      <td>Final</td>\n",
       "      <td>1610612739</td>\n",
       "      <td>1610612749</td>\n",
       "      <td>2022</td>\n",
       "      <td>1610612739</td>\n",
       "      <td>114.0</td>\n",
       "      <td>0.482</td>\n",
       "      <td>0.786</td>\n",
       "      <td>...</td>\n",
       "      <td>22.0</td>\n",
       "      <td>37.0</td>\n",
       "      <td>1610612749</td>\n",
       "      <td>106.0</td>\n",
       "      <td>0.470</td>\n",
       "      <td>0.682</td>\n",
       "      <td>0.433</td>\n",
       "      <td>20.0</td>\n",
       "      <td>46.0</td>\n",
       "      <td>1</td>\n",
       "    </tr>\n",
       "  </tbody>\n",
       "</table>\n",
       "<p>3 rows × 21 columns</p>\n",
       "</div>"
      ],
      "text/plain": [
       "  GAME_DATE_EST   GAME_ID GAME_STATUS_TEXT  HOME_TEAM_ID  VISITOR_TEAM_ID  \\\n",
       "0    2022-12-22  22200477            Final    1610612740       1610612759   \n",
       "1    2022-12-22  22200478            Final    1610612762       1610612764   \n",
       "2    2022-12-21  22200466            Final    1610612739       1610612749   \n",
       "\n",
       "   SEASON  TEAM_ID_home  PTS_home  FG_PCT_home  FT_PCT_home  ...  AST_home  \\\n",
       "0    2022    1610612740     126.0        0.484        0.926  ...      25.0   \n",
       "1    2022    1610612762     120.0        0.488        0.952  ...      16.0   \n",
       "2    2022    1610612739     114.0        0.482        0.786  ...      22.0   \n",
       "\n",
       "   REB_home  TEAM_ID_away  PTS_away  FG_PCT_away  FT_PCT_away  FG3_PCT_away  \\\n",
       "0      46.0    1610612759     117.0        0.478        0.815         0.321   \n",
       "1      40.0    1610612764     112.0        0.561        0.765         0.333   \n",
       "2      37.0    1610612749     106.0        0.470        0.682         0.433   \n",
       "\n",
       "   AST_away  REB_away  HOME_TEAM_WINS  \n",
       "0      23.0      44.0               1  \n",
       "1      20.0      37.0               1  \n",
       "2      20.0      46.0               1  \n",
       "\n",
       "[3 rows x 21 columns]"
      ]
     },
     "execution_count": 2,
     "metadata": {},
     "output_type": "execute_result"
    }
   ],
   "source": [
    "#Cargo los archivos\n",
    "games = pd.read_csv('/kaggle/input/nba-games/games.csv')\n",
    "games.head(3)"
   ]
  },
  {
   "cell_type": "code",
   "execution_count": 3,
   "id": "66657dba",
   "metadata": {
    "execution": {
     "iopub.execute_input": "2024-03-02T21:42:12.368581Z",
     "iopub.status.busy": "2024-03-02T21:42:12.368278Z",
     "iopub.status.idle": "2024-03-02T21:42:12.392413Z",
     "shell.execute_reply": "2024-03-02T21:42:12.391455Z"
    },
    "papermill": {
     "duration": 0.029997,
     "end_time": "2024-03-02T21:42:12.394602",
     "exception": false,
     "start_time": "2024-03-02T21:42:12.364605",
     "status": "completed"
    },
    "tags": []
   },
   "outputs": [
    {
     "name": "stdout",
     "output_type": "stream",
     "text": [
      "<class 'pandas.core.frame.DataFrame'>\n",
      "RangeIndex: 26651 entries, 0 to 26650\n",
      "Data columns (total 21 columns):\n",
      " #   Column            Non-Null Count  Dtype  \n",
      "---  ------            --------------  -----  \n",
      " 0   GAME_DATE_EST     26651 non-null  object \n",
      " 1   GAME_ID           26651 non-null  int64  \n",
      " 2   GAME_STATUS_TEXT  26651 non-null  object \n",
      " 3   HOME_TEAM_ID      26651 non-null  int64  \n",
      " 4   VISITOR_TEAM_ID   26651 non-null  int64  \n",
      " 5   SEASON            26651 non-null  int64  \n",
      " 6   TEAM_ID_home      26651 non-null  int64  \n",
      " 7   PTS_home          26552 non-null  float64\n",
      " 8   FG_PCT_home       26552 non-null  float64\n",
      " 9   FT_PCT_home       26552 non-null  float64\n",
      " 10  FG3_PCT_home      26552 non-null  float64\n",
      " 11  AST_home          26552 non-null  float64\n",
      " 12  REB_home          26552 non-null  float64\n",
      " 13  TEAM_ID_away      26651 non-null  int64  \n",
      " 14  PTS_away          26552 non-null  float64\n",
      " 15  FG_PCT_away       26552 non-null  float64\n",
      " 16  FT_PCT_away       26552 non-null  float64\n",
      " 17  FG3_PCT_away      26552 non-null  float64\n",
      " 18  AST_away          26552 non-null  float64\n",
      " 19  REB_away          26552 non-null  float64\n",
      " 20  HOME_TEAM_WINS    26651 non-null  int64  \n",
      "dtypes: float64(12), int64(7), object(2)\n",
      "memory usage: 4.3+ MB\n"
     ]
    }
   ],
   "source": [
    "games.info()"
   ]
  },
  {
   "cell_type": "code",
   "execution_count": 4,
   "id": "20ca0e38",
   "metadata": {
    "execution": {
     "iopub.execute_input": "2024-03-02T21:42:12.402477Z",
     "iopub.status.busy": "2024-03-02T21:42:12.402094Z",
     "iopub.status.idle": "2024-03-02T21:42:12.415616Z",
     "shell.execute_reply": "2024-03-02T21:42:12.414235Z"
    },
    "papermill": {
     "duration": 0.020156,
     "end_time": "2024-03-02T21:42:12.417912",
     "exception": false,
     "start_time": "2024-03-02T21:42:12.397756",
     "status": "completed"
    },
    "tags": []
   },
   "outputs": [
    {
     "data": {
      "text/html": [
       "<div>\n",
       "<style scoped>\n",
       "    .dataframe tbody tr th:only-of-type {\n",
       "        vertical-align: middle;\n",
       "    }\n",
       "\n",
       "    .dataframe tbody tr th {\n",
       "        vertical-align: top;\n",
       "    }\n",
       "\n",
       "    .dataframe thead th {\n",
       "        text-align: right;\n",
       "    }\n",
       "</style>\n",
       "<table border=\"1\" class=\"dataframe\">\n",
       "  <thead>\n",
       "    <tr style=\"text-align: right;\">\n",
       "      <th></th>\n",
       "      <th>GAME_DATE_EST</th>\n",
       "      <th>GAME_ID</th>\n",
       "      <th>GAME_STATUS_TEXT</th>\n",
       "      <th>TEAM_ID_home</th>\n",
       "      <th>TEAM_ID_away</th>\n",
       "      <th>PTS_home</th>\n",
       "      <th>HOME_TEAM_WINS</th>\n",
       "    </tr>\n",
       "  </thead>\n",
       "  <tbody>\n",
       "    <tr>\n",
       "      <th>0</th>\n",
       "      <td>2022-12-22</td>\n",
       "      <td>22200477</td>\n",
       "      <td>Final</td>\n",
       "      <td>1610612740</td>\n",
       "      <td>1610612759</td>\n",
       "      <td>126.0</td>\n",
       "      <td>1</td>\n",
       "    </tr>\n",
       "    <tr>\n",
       "      <th>1</th>\n",
       "      <td>2022-12-22</td>\n",
       "      <td>22200478</td>\n",
       "      <td>Final</td>\n",
       "      <td>1610612762</td>\n",
       "      <td>1610612764</td>\n",
       "      <td>120.0</td>\n",
       "      <td>1</td>\n",
       "    </tr>\n",
       "    <tr>\n",
       "      <th>2</th>\n",
       "      <td>2022-12-21</td>\n",
       "      <td>22200466</td>\n",
       "      <td>Final</td>\n",
       "      <td>1610612739</td>\n",
       "      <td>1610612749</td>\n",
       "      <td>114.0</td>\n",
       "      <td>1</td>\n",
       "    </tr>\n",
       "    <tr>\n",
       "      <th>3</th>\n",
       "      <td>2022-12-21</td>\n",
       "      <td>22200467</td>\n",
       "      <td>Final</td>\n",
       "      <td>1610612755</td>\n",
       "      <td>1610612765</td>\n",
       "      <td>113.0</td>\n",
       "      <td>1</td>\n",
       "    </tr>\n",
       "    <tr>\n",
       "      <th>4</th>\n",
       "      <td>2022-12-21</td>\n",
       "      <td>22200468</td>\n",
       "      <td>Final</td>\n",
       "      <td>1610612737</td>\n",
       "      <td>1610612741</td>\n",
       "      <td>108.0</td>\n",
       "      <td>0</td>\n",
       "    </tr>\n",
       "  </tbody>\n",
       "</table>\n",
       "</div>"
      ],
      "text/plain": [
       "  GAME_DATE_EST   GAME_ID GAME_STATUS_TEXT  TEAM_ID_home  TEAM_ID_away  \\\n",
       "0    2022-12-22  22200477            Final    1610612740    1610612759   \n",
       "1    2022-12-22  22200478            Final    1610612762    1610612764   \n",
       "2    2022-12-21  22200466            Final    1610612739    1610612749   \n",
       "3    2022-12-21  22200467            Final    1610612755    1610612765   \n",
       "4    2022-12-21  22200468            Final    1610612737    1610612741   \n",
       "\n",
       "   PTS_home  HOME_TEAM_WINS  \n",
       "0     126.0               1  \n",
       "1     120.0               1  \n",
       "2     114.0               1  \n",
       "3     113.0               1  \n",
       "4     108.0               0  "
      ]
     },
     "execution_count": 4,
     "metadata": {},
     "output_type": "execute_result"
    }
   ],
   "source": [
    "#Filtro las columnas que voy a utilizar\n",
    "games = games[['GAME_DATE_EST', 'GAME_ID', 'GAME_STATUS_TEXT','TEAM_ID_home',\n",
    "              'TEAM_ID_away','PTS_home', 'HOME_TEAM_WINS']]\n",
    "games.head()"
   ]
  },
  {
   "cell_type": "code",
   "execution_count": 5,
   "id": "1f745684",
   "metadata": {
    "execution": {
     "iopub.execute_input": "2024-03-02T21:42:12.426006Z",
     "iopub.status.busy": "2024-03-02T21:42:12.425606Z",
     "iopub.status.idle": "2024-03-02T21:42:12.439546Z",
     "shell.execute_reply": "2024-03-02T21:42:12.438197Z"
    },
    "papermill": {
     "duration": 0.020794,
     "end_time": "2024-03-02T21:42:12.442045",
     "exception": false,
     "start_time": "2024-03-02T21:42:12.421251",
     "status": "completed"
    },
    "tags": []
   },
   "outputs": [],
   "source": [
    "#Cambio el tipo de dato de la fecha\n",
    "games['GAME_DATE_EST'] = pd.to_datetime(games['GAME_DATE_EST'], format='%Y-%m-%d')"
   ]
  },
  {
   "cell_type": "code",
   "execution_count": 6,
   "id": "665acea3",
   "metadata": {
    "execution": {
     "iopub.execute_input": "2024-03-02T21:42:12.451739Z",
     "iopub.status.busy": "2024-03-02T21:42:12.451130Z",
     "iopub.status.idle": "2024-03-02T21:42:12.460392Z",
     "shell.execute_reply": "2024-03-02T21:42:12.459815Z"
    },
    "papermill": {
     "duration": 0.016286,
     "end_time": "2024-03-02T21:42:12.462509",
     "exception": false,
     "start_time": "2024-03-02T21:42:12.446223",
     "status": "completed"
    },
    "tags": []
   },
   "outputs": [
    {
     "name": "stdout",
     "output_type": "stream",
     "text": [
      "<class 'pandas.core.frame.DataFrame'>\n",
      "RangeIndex: 26651 entries, 0 to 26650\n",
      "Data columns (total 7 columns):\n",
      " #   Column            Non-Null Count  Dtype         \n",
      "---  ------            --------------  -----         \n",
      " 0   GAME_DATE_EST     26651 non-null  datetime64[ns]\n",
      " 1   GAME_ID           26651 non-null  int64         \n",
      " 2   GAME_STATUS_TEXT  26651 non-null  object        \n",
      " 3   TEAM_ID_home      26651 non-null  int64         \n",
      " 4   TEAM_ID_away      26651 non-null  int64         \n",
      " 5   PTS_home          26552 non-null  float64       \n",
      " 6   HOME_TEAM_WINS    26651 non-null  int64         \n",
      "dtypes: datetime64[ns](1), float64(1), int64(4), object(1)\n",
      "memory usage: 1.4+ MB\n"
     ]
    }
   ],
   "source": [
    "games.info()"
   ]
  },
  {
   "cell_type": "code",
   "execution_count": 7,
   "id": "3cc584c8",
   "metadata": {
    "execution": {
     "iopub.execute_input": "2024-03-02T21:42:12.469986Z",
     "iopub.status.busy": "2024-03-02T21:42:12.469717Z",
     "iopub.status.idle": "2024-03-02T21:42:12.483425Z",
     "shell.execute_reply": "2024-03-02T21:42:12.481805Z"
    },
    "papermill": {
     "duration": 0.019797,
     "end_time": "2024-03-02T21:42:12.485686",
     "exception": false,
     "start_time": "2024-03-02T21:42:12.465889",
     "status": "completed"
    },
    "tags": []
   },
   "outputs": [
    {
     "data": {
      "text/html": [
       "<div>\n",
       "<style scoped>\n",
       "    .dataframe tbody tr th:only-of-type {\n",
       "        vertical-align: middle;\n",
       "    }\n",
       "\n",
       "    .dataframe tbody tr th {\n",
       "        vertical-align: top;\n",
       "    }\n",
       "\n",
       "    .dataframe thead th {\n",
       "        text-align: right;\n",
       "    }\n",
       "</style>\n",
       "<table border=\"1\" class=\"dataframe\">\n",
       "  <thead>\n",
       "    <tr style=\"text-align: right;\">\n",
       "      <th></th>\n",
       "      <th>GAME_DATE_EST</th>\n",
       "      <th>GAME_ID</th>\n",
       "      <th>GAME_STATUS_TEXT</th>\n",
       "      <th>TEAM_ID_home</th>\n",
       "      <th>TEAM_ID_away</th>\n",
       "      <th>PTS_home</th>\n",
       "      <th>HOME_TEAM_WINS</th>\n",
       "      <th>year</th>\n",
       "    </tr>\n",
       "  </thead>\n",
       "  <tbody>\n",
       "    <tr>\n",
       "      <th>0</th>\n",
       "      <td>2022-12-22</td>\n",
       "      <td>22200477</td>\n",
       "      <td>Final</td>\n",
       "      <td>1610612740</td>\n",
       "      <td>1610612759</td>\n",
       "      <td>126.0</td>\n",
       "      <td>1</td>\n",
       "      <td>2022</td>\n",
       "    </tr>\n",
       "    <tr>\n",
       "      <th>1</th>\n",
       "      <td>2022-12-22</td>\n",
       "      <td>22200478</td>\n",
       "      <td>Final</td>\n",
       "      <td>1610612762</td>\n",
       "      <td>1610612764</td>\n",
       "      <td>120.0</td>\n",
       "      <td>1</td>\n",
       "      <td>2022</td>\n",
       "    </tr>\n",
       "    <tr>\n",
       "      <th>2</th>\n",
       "      <td>2022-12-21</td>\n",
       "      <td>22200466</td>\n",
       "      <td>Final</td>\n",
       "      <td>1610612739</td>\n",
       "      <td>1610612749</td>\n",
       "      <td>114.0</td>\n",
       "      <td>1</td>\n",
       "      <td>2022</td>\n",
       "    </tr>\n",
       "    <tr>\n",
       "      <th>3</th>\n",
       "      <td>2022-12-21</td>\n",
       "      <td>22200467</td>\n",
       "      <td>Final</td>\n",
       "      <td>1610612755</td>\n",
       "      <td>1610612765</td>\n",
       "      <td>113.0</td>\n",
       "      <td>1</td>\n",
       "      <td>2022</td>\n",
       "    </tr>\n",
       "    <tr>\n",
       "      <th>4</th>\n",
       "      <td>2022-12-21</td>\n",
       "      <td>22200468</td>\n",
       "      <td>Final</td>\n",
       "      <td>1610612737</td>\n",
       "      <td>1610612741</td>\n",
       "      <td>108.0</td>\n",
       "      <td>0</td>\n",
       "      <td>2022</td>\n",
       "    </tr>\n",
       "  </tbody>\n",
       "</table>\n",
       "</div>"
      ],
      "text/plain": [
       "  GAME_DATE_EST   GAME_ID GAME_STATUS_TEXT  TEAM_ID_home  TEAM_ID_away  \\\n",
       "0    2022-12-22  22200477            Final    1610612740    1610612759   \n",
       "1    2022-12-22  22200478            Final    1610612762    1610612764   \n",
       "2    2022-12-21  22200466            Final    1610612739    1610612749   \n",
       "3    2022-12-21  22200467            Final    1610612755    1610612765   \n",
       "4    2022-12-21  22200468            Final    1610612737    1610612741   \n",
       "\n",
       "   PTS_home  HOME_TEAM_WINS  year  \n",
       "0     126.0               1  2022  \n",
       "1     120.0               1  2022  \n",
       "2     114.0               1  2022  \n",
       "3     113.0               1  2022  \n",
       "4     108.0               0  2022  "
      ]
     },
     "execution_count": 7,
     "metadata": {},
     "output_type": "execute_result"
    }
   ],
   "source": [
    "#Agrego la columna en la que se va a almacenar el año en que se jugó el partido\n",
    "games['year'] = games['GAME_DATE_EST'].dt.year\n",
    "games.head()"
   ]
  }
 ],
 "metadata": {
  "kaggle": {
   "accelerator": "none",
   "dataSources": [
    {
     "datasetId": 458874,
     "sourceId": 4761991,
     "sourceType": "datasetVersion"
    }
   ],
   "dockerImageVersionId": 30664,
   "isGpuEnabled": false,
   "isInternetEnabled": false,
   "language": "python",
   "sourceType": "notebook"
  },
  "kernelspec": {
   "display_name": "Python 3",
   "language": "python",
   "name": "python3"
  },
  "language_info": {
   "codemirror_mode": {
    "name": "ipython",
    "version": 3
   },
   "file_extension": ".py",
   "mimetype": "text/x-python",
   "name": "python",
   "nbconvert_exporter": "python",
   "pygments_lexer": "ipython3",
   "version": "3.10.13"
  },
  "papermill": {
   "default_parameters": {},
   "duration": 4.115776,
   "end_time": "2024-03-02T21:42:12.910217",
   "environment_variables": {},
   "exception": null,
   "input_path": "__notebook__.ipynb",
   "output_path": "__notebook__.ipynb",
   "parameters": {},
   "start_time": "2024-03-02T21:42:08.794441",
   "version": "2.5.0"
  }
 },
 "nbformat": 4,
 "nbformat_minor": 5
}
